{
 "cells": [
  {
   "cell_type": "code",
   "execution_count": 17,
   "metadata": {},
   "outputs": [
    {
     "name": "stdout",
     "output_type": "stream",
     "text": [
      "Initializing brazilian analysis!\n"
     ]
    }
   ],
   "source": [
    "#https://github.com/pomber/covid19\n",
    "print('Initializing brazilian analysis!')\n",
    "import numpy as np\n",
    "import pandas as pd\n",
    "import matplotlib.pyplot as plt\n",
    "import datetime"
   ]
  },
  {
   "cell_type": "code",
   "execution_count": 18,
   "metadata": {},
   "outputs": [
    {
     "data": {
      "text/html": [
       "<div>\n",
       "<style scoped>\n",
       "    .dataframe tbody tr th:only-of-type {\n",
       "        vertical-align: middle;\n",
       "    }\n",
       "\n",
       "    .dataframe tbody tr th {\n",
       "        vertical-align: top;\n",
       "    }\n",
       "\n",
       "    .dataframe thead th {\n",
       "        text-align: right;\n",
       "    }\n",
       "</style>\n",
       "<table border=\"1\" class=\"dataframe\">\n",
       "  <thead>\n",
       "    <tr style=\"text-align: right;\">\n",
       "      <th></th>\n",
       "      <th>state</th>\n",
       "      <th>city</th>\n",
       "      <th>yearMonth</th>\n",
       "      <th>cases</th>\n",
       "      <th>deaths</th>\n",
       "      <th>case_day</th>\n",
       "      <th>death_day</th>\n",
       "      <th>var_case_day</th>\n",
       "      <th>var_death_day</th>\n",
       "      <th>case_day_thousand</th>\n",
       "      <th>death_day_thousand</th>\n",
       "      <th>cases_thousand</th>\n",
       "      <th>deaths_thousand</th>\n",
       "    </tr>\n",
       "  </thead>\n",
       "  <tbody>\n",
       "    <tr>\n",
       "      <th>293</th>\n",
       "      <td>TO</td>\n",
       "      <td>-</td>\n",
       "      <td>2020-09</td>\n",
       "      <td>16977</td>\n",
       "      <td>261</td>\n",
       "      <td>565.900000</td>\n",
       "      <td>8.700000</td>\n",
       "      <td>-11.066667</td>\n",
       "      <td>-0.166667</td>\n",
       "      <td>0.359767</td>\n",
       "      <td>0.005567</td>\n",
       "      <td>38.877433</td>\n",
       "      <td>0.529267</td>\n",
       "    </tr>\n",
       "    <tr>\n",
       "      <th>294</th>\n",
       "      <td>TO</td>\n",
       "      <td>-</td>\n",
       "      <td>2020-10</td>\n",
       "      <td>7019</td>\n",
       "      <td>149</td>\n",
       "      <td>226.419355</td>\n",
       "      <td>4.806452</td>\n",
       "      <td>-17.645161</td>\n",
       "      <td>-0.290323</td>\n",
       "      <td>0.144032</td>\n",
       "      <td>0.003065</td>\n",
       "      <td>46.018903</td>\n",
       "      <td>0.659645</td>\n",
       "    </tr>\n",
       "    <tr>\n",
       "      <th>295</th>\n",
       "      <td>TO</td>\n",
       "      <td>-</td>\n",
       "      <td>2020-11</td>\n",
       "      <td>6347</td>\n",
       "      <td>70</td>\n",
       "      <td>211.566667</td>\n",
       "      <td>2.333333</td>\n",
       "      <td>9.466667</td>\n",
       "      <td>0.100000</td>\n",
       "      <td>0.134500</td>\n",
       "      <td>0.001500</td>\n",
       "      <td>49.921700</td>\n",
       "      <td>0.721467</td>\n",
       "    </tr>\n",
       "    <tr>\n",
       "      <th>296</th>\n",
       "      <td>TO</td>\n",
       "      <td>-</td>\n",
       "      <td>2020-12</td>\n",
       "      <td>8564</td>\n",
       "      <td>69</td>\n",
       "      <td>276.258065</td>\n",
       "      <td>2.225806</td>\n",
       "      <td>-5.225806</td>\n",
       "      <td>-0.032258</td>\n",
       "      <td>0.175613</td>\n",
       "      <td>0.001419</td>\n",
       "      <td>55.023968</td>\n",
       "      <td>0.767097</td>\n",
       "    </tr>\n",
       "    <tr>\n",
       "      <th>297</th>\n",
       "      <td>TO</td>\n",
       "      <td>-</td>\n",
       "      <td>2021-01</td>\n",
       "      <td>4409</td>\n",
       "      <td>58</td>\n",
       "      <td>339.153846</td>\n",
       "      <td>4.461538</td>\n",
       "      <td>29.692308</td>\n",
       "      <td>0.461538</td>\n",
       "      <td>0.215769</td>\n",
       "      <td>0.003000</td>\n",
       "      <td>58.781692</td>\n",
       "      <td>0.802846</td>\n",
       "    </tr>\n",
       "  </tbody>\n",
       "</table>\n",
       "</div>"
      ],
      "text/plain": [
       "    state city yearMonth  cases  deaths    case_day  death_day  var_case_day  \\\n",
       "293    TO    -   2020-09  16977     261  565.900000   8.700000    -11.066667   \n",
       "294    TO    -   2020-10   7019     149  226.419355   4.806452    -17.645161   \n",
       "295    TO    -   2020-11   6347      70  211.566667   2.333333      9.466667   \n",
       "296    TO    -   2020-12   8564      69  276.258065   2.225806     -5.225806   \n",
       "297    TO    -   2021-01   4409      58  339.153846   4.461538     29.692308   \n",
       "\n",
       "     var_death_day  case_day_thousand  death_day_thousand  cases_thousand  \\\n",
       "293      -0.166667           0.359767            0.005567       38.877433   \n",
       "294      -0.290323           0.144032            0.003065       46.018903   \n",
       "295       0.100000           0.134500            0.001500       49.921700   \n",
       "296      -0.032258           0.175613            0.001419       55.023968   \n",
       "297       0.461538           0.215769            0.003000       58.781692   \n",
       "\n",
       "     deaths_thousand  \n",
       "293         0.529267  \n",
       "294         0.659645  \n",
       "295         0.721467  \n",
       "296         0.767097  \n",
       "297         0.802846  "
      ]
     },
     "execution_count": 18,
     "metadata": {},
     "output_type": "execute_result"
    }
   ],
   "source": [
    "df = pd.read_csv('../data/brazil_states_corona19_data.csv')\n",
    "# df['date'] = df['date'].astype('datetime64[ns]')\n",
    "\n",
    "df.tail()"
   ]
  },
  {
   "cell_type": "code",
   "execution_count": 19,
   "metadata": {},
   "outputs": [
    {
     "data": {
      "text/plain": [
       "array(['AC', 'AL', 'AM', 'AP', 'BA', 'CE', 'DF', 'ES', 'GO', 'MA', 'MG',\n",
       "       'MS', 'MT', 'PA', 'PB', 'PE', 'PI', 'PR', 'RJ', 'RN', 'RO', 'RR',\n",
       "       'RS', 'SC', 'SE', 'SP', 'TO'], dtype=object)"
      ]
     },
     "execution_count": 19,
     "metadata": {},
     "output_type": "execute_result"
    }
   ],
   "source": [
    "# df_mapa[['date','state','city_ibge_code','death_day_thousand']]\n",
    "df.state.unique()"
   ]
  },
  {
   "cell_type": "markdown",
   "metadata": {},
   "source": [
    "----------------------------\n",
    "### Brasil - Analysis and monitoring"
   ]
  },
  {
   "cell_type": "code",
   "execution_count": null,
   "metadata": {},
   "outputs": [],
   "source": [
    "Média diária mensal (mortes e casos)\n",
    "Total mensal (mortes e casos)\n",
    "\n",
    "Brasil\n",
    "SP\n",
    "\n",
    "Mapa dos estados por mês (média e totais) - heatmap"
   ]
  },
  {
   "cell_type": "code",
   "execution_count": null,
   "metadata": {},
   "outputs": [],
   "source": [
    "# fig, ((ax1, ax2), (ax3, ax4), (ax5, ax6)) = plt.subplots(3,2, figsize=(20, 20))\n",
    "fig, ((ax1, ax2), (ax3, ax4)) = plt.subplots(2,2, figsize=(20, 15))\n",
    "fig.tight_layout(pad=5.0)\n",
    "\n",
    "ax1.set_title(\"Cumulatative cases\")\n",
    "ax1.set_xlabel(\"days from the first case\")\n",
    "ax1.grid(color='gray', alpha = 0.4)\n",
    "\n",
    "# ax2.set_title(\"Daily cases - moving average (last 7 days)\")\n",
    "# ax2.set_xlabel(\"days from the first case\")\n",
    "# ax2.grid(color='gray', alpha = 0.4)\n",
    "\n",
    "# ax3.set_title(\"Cumulative deaths\")\n",
    "# ax3.set_xlabel(\"days from the first case\")\n",
    "# ax3.grid(color='gray', alpha = 0.4)\n",
    "\n",
    "# ax4.set_title(\"Daily deaths - moving average (last 7 days)\")\n",
    "# ax4.set_xlabel(\"days from the first case\")\n",
    "# ax4.grid(color='gray', alpha = 0.4)\n",
    "\n",
    "# ax5.set_title(\"Cumulative recoveries\")\n",
    "# ax5.set_xlabel(\"days from the first case\")\n",
    "# ax5.grid(color='gray', alpha = 0.4)\n",
    "\n",
    "# ax6.set_title(\"Recoveries - moving average (last 7 days)\")\n",
    "# ax6.set_xlabel(\"days from the first case\")\n",
    "# ax6.grid(color='gray', alpha = 0.4)\n",
    "\n",
    "\n",
    "dados = \n",
    "    ax1.plot(dados.day, dados.cases, label = state)\n",
    "    ax2.plot(dados.day, dados.avg7_cases, label = state)\n",
    "    ax3.plot(dados.day, dados.deaths, label = state)\n",
    "    ax4.plot(dados.day, dados.avg7_deaths, label = state)\n",
    "#     ax5.plot(df[indexes].day, df[indexes].recoveries, label = state)\n",
    "#     ax6.plot(df[indexes].day, df[indexes].avg7_recoveries, label = state)\n",
    "\n",
    "ax1.legend()\n",
    "ax2.legend()\n",
    "ax3.legend()\n",
    "ax4.legend()\n",
    "# ax5.legend()\n",
    "# ax6.legend()\n",
    "fig.savefig('../analysis/brazilian_states_cases_deaths.png')"
   ]
  },
  {
   "cell_type": "code",
   "execution_count": 22,
   "metadata": {},
   "outputs": [
    {
     "data": {
      "text/plain": [
       "array(['2020-03', '2020-04', '2020-05', '2020-06', '2020-07', '2020-08',\n",
       "       '2020-09', '2020-10', '2020-11', '2020-12', '2021-01', '2020-02'],\n",
       "      dtype=object)"
      ]
     },
     "execution_count": 22,
     "metadata": {},
     "output_type": "execute_result"
    }
   ],
   "source": []
  },
  {
   "cell_type": "code",
   "execution_count": null,
   "metadata": {},
   "outputs": [],
   "source": []
  },
  {
   "cell_type": "code",
   "execution_count": null,
   "metadata": {},
   "outputs": [],
   "source": []
  },
  {
   "cell_type": "code",
   "execution_count": null,
   "metadata": {},
   "outputs": [],
   "source": []
  }
 ],
 "metadata": {
  "kernelspec": {
   "display_name": "Python 3",
   "language": "python",
   "name": "python3"
  },
  "language_info": {
   "codemirror_mode": {
    "name": "ipython",
    "version": 3
   },
   "file_extension": ".py",
   "mimetype": "text/x-python",
   "name": "python",
   "nbconvert_exporter": "python",
   "pygments_lexer": "ipython3",
   "version": "3.9.1"
  }
 },
 "nbformat": 4,
 "nbformat_minor": 2
}
