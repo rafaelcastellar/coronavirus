{
 "cells": [
  {
   "cell_type": "code",
   "execution_count": 9,
   "metadata": {},
   "outputs": [],
   "source": [
    "#https://github.com/pomber/covid19\n",
    "import numpy as np\n",
    "import pandas as pd\n",
    "from fbprophet import Prophet\n",
    "\n",
    "from scipy import optimize\n",
    "import matplotlib.pyplot as plt\n",
    "import datetime\n",
    "from tabulate import tabulate"
   ]
  },
  {
   "cell_type": "code",
   "execution_count": 10,
   "metadata": {},
   "outputs": [
    {
     "data": {
      "text/html": [
       "<div>\n",
       "<style scoped>\n",
       "    .dataframe tbody tr th:only-of-type {\n",
       "        vertical-align: middle;\n",
       "    }\n",
       "\n",
       "    .dataframe tbody tr th {\n",
       "        vertical-align: top;\n",
       "    }\n",
       "\n",
       "    .dataframe thead th {\n",
       "        text-align: right;\n",
       "    }\n",
       "</style>\n",
       "<table border=\"1\" class=\"dataframe\">\n",
       "  <thead>\n",
       "    <tr style=\"text-align: right;\">\n",
       "      <th></th>\n",
       "      <th>ds</th>\n",
       "      <th>casos</th>\n",
       "      <th>mortes</th>\n",
       "    </tr>\n",
       "  </thead>\n",
       "  <tbody>\n",
       "    <tr>\n",
       "      <th>30</th>\n",
       "      <td>2020-03-27</td>\n",
       "      <td>432</td>\n",
       "      <td>15</td>\n",
       "    </tr>\n",
       "    <tr>\n",
       "      <th>31</th>\n",
       "      <td>2020-03-28</td>\n",
       "      <td>487</td>\n",
       "      <td>22</td>\n",
       "    </tr>\n",
       "    <tr>\n",
       "      <th>32</th>\n",
       "      <td>2020-03-29</td>\n",
       "      <td>352</td>\n",
       "      <td>22</td>\n",
       "    </tr>\n",
       "    <tr>\n",
       "      <th>33</th>\n",
       "      <td>2020-03-30</td>\n",
       "      <td>374</td>\n",
       "      <td>27</td>\n",
       "    </tr>\n",
       "    <tr>\n",
       "      <th>34</th>\n",
       "      <td>2020-03-31</td>\n",
       "      <td>1087</td>\n",
       "      <td>38</td>\n",
       "    </tr>\n",
       "  </tbody>\n",
       "</table>\n",
       "</div>"
      ],
      "text/plain": [
       "            ds  casos  mortes\n",
       "30  2020-03-27    432      15\n",
       "31  2020-03-28    487      22\n",
       "32  2020-03-29    352      22\n",
       "33  2020-03-30    374      27\n",
       "34  2020-03-31   1087      38"
      ]
     },
     "execution_count": 10,
     "metadata": {},
     "output_type": "execute_result"
    }
   ],
   "source": [
    "#casos = np.array([1,0,0,1,0,0,0,1,5,5,6,6,5,4,35,9,20,23,79,34,57,137,193,349,208,368])\n",
    "\n",
    "hoje = str(datetime.datetime.today().date())\n",
    "# hoje = str(datetime.datetime.strptime('2020-03-25', \"%Y-%m-%d\").date())\n",
    "pd.options.display.float_format = '{:,}'.format\n",
    "df = pd.read_csv('corona.csv', sep=';', decimal=',')\n",
    "df.tail()"
   ]
  },
  {
   "cell_type": "code",
   "execution_count": 11,
   "metadata": {},
   "outputs": [
    {
     "data": {
      "text/html": [
       "<div>\n",
       "<style scoped>\n",
       "    .dataframe tbody tr th:only-of-type {\n",
       "        vertical-align: middle;\n",
       "    }\n",
       "\n",
       "    .dataframe tbody tr th {\n",
       "        vertical-align: top;\n",
       "    }\n",
       "\n",
       "    .dataframe thead th {\n",
       "        text-align: right;\n",
       "    }\n",
       "</style>\n",
       "<table border=\"1\" class=\"dataframe\">\n",
       "  <thead>\n",
       "    <tr style=\"text-align: right;\">\n",
       "      <th></th>\n",
       "      <th>ds</th>\n",
       "      <th>y</th>\n",
       "    </tr>\n",
       "  </thead>\n",
       "  <tbody>\n",
       "    <tr>\n",
       "      <th>30</th>\n",
       "      <td>2020-03-27</td>\n",
       "      <td>15</td>\n",
       "    </tr>\n",
       "    <tr>\n",
       "      <th>31</th>\n",
       "      <td>2020-03-28</td>\n",
       "      <td>22</td>\n",
       "    </tr>\n",
       "    <tr>\n",
       "      <th>32</th>\n",
       "      <td>2020-03-29</td>\n",
       "      <td>22</td>\n",
       "    </tr>\n",
       "    <tr>\n",
       "      <th>33</th>\n",
       "      <td>2020-03-30</td>\n",
       "      <td>27</td>\n",
       "    </tr>\n",
       "    <tr>\n",
       "      <th>34</th>\n",
       "      <td>2020-03-31</td>\n",
       "      <td>38</td>\n",
       "    </tr>\n",
       "  </tbody>\n",
       "</table>\n",
       "</div>"
      ],
      "text/plain": [
       "            ds   y\n",
       "30  2020-03-27  15\n",
       "31  2020-03-28  22\n",
       "32  2020-03-29  22\n",
       "33  2020-03-30  27\n",
       "34  2020-03-31  38"
      ]
     },
     "execution_count": 11,
     "metadata": {},
     "output_type": "execute_result"
    }
   ],
   "source": [
    "df_casos = df[['ds','casos']]\n",
    "df_casos['y'] = df['casos']\n",
    "df_casos.drop(columns='casos', inplace=True)\n",
    "# df_casos\n",
    "\n",
    "df_mortes = df[['ds','mortes']]\n",
    "df_mortes['y'] = df['mortes']\n",
    "df_mortes.drop(columns='mortes', inplace=True)\n",
    "df_mortes.tail()"
   ]
  },
  {
   "cell_type": "code",
   "execution_count": 12,
   "metadata": {},
   "outputs": [
    {
     "data": {
      "text/plain": [
       "<fbprophet.forecaster.Prophet at 0x7f1842646ac0>"
      ]
     },
     "execution_count": 12,
     "metadata": {},
     "output_type": "execute_result"
    }
   ],
   "source": [
    "m_casos = Prophet(yearly_seasonality=False, daily_seasonality=True)\n",
    "m_casos.fit(df_casos)\n",
    "\n",
    "m_mortes = Prophet(yearly_seasonality=False, daily_seasonality=True)\n",
    "m_mortes.fit(df_mortes)"
   ]
  },
  {
   "cell_type": "code",
   "execution_count": 13,
   "metadata": {},
   "outputs": [],
   "source": [
    "future_casos = m_casos.make_future_dataframe(periods=20, freq='D', include_history=False)\n",
    "future_mortes = m_mortes.make_future_dataframe(periods=20, freq='D', include_history=False)"
   ]
  },
  {
   "cell_type": "code",
   "execution_count": 14,
   "metadata": {},
   "outputs": [
    {
     "name": "stdout",
     "output_type": "stream",
     "text": [
      "########## CASOS ###########\n",
      "           ds              yhat        yhat_lower        yhat_upper\n",
      "15 2020-04-16 758.6999574739068 592.0938333191631 925.3611413842596\n",
      "16 2020-04-17 792.3170999145973 619.5138969947184  949.180123008318\n",
      "17 2020-04-18 776.1322814467546 608.1869350921884 938.4791480906675\n",
      "18 2020-04-19 792.1444712468476 640.8461044458711 962.7516305076638\n",
      "19 2020-04-20 789.3552422710078 623.2793084377554 957.1494439778623\n",
      "\n",
      "########## MORTES ###########\n",
      "           ds               yhat         yhat_lower         yhat_upper\n",
      "15 2020-04-16 29.510004963210076 22.093997982864053  37.13586363486522\n",
      "16 2020-04-17   29.1110773254711   22.1349544636783 36.317090939242185\n",
      "17 2020-04-18 31.111959220322053  24.02622935634083  37.98421630974022\n",
      "18 2020-04-19 31.112982561991963 24.535295842618073  37.50126492483495\n",
      "19 2020-04-20   32.5138858277669 25.543356900571357   39.4888149959409\n"
     ]
    }
   ],
   "source": [
    "print('########## CASOS ###########')\n",
    "forecast_casos = m_casos.predict(future_casos)\n",
    "print(forecast_casos[['ds', 'yhat', 'yhat_lower', 'yhat_upper']].tail())\n",
    "\n",
    "print('\\n########## MORTES ###########')\n",
    "forecast_mortes = m_mortes.predict(future_mortes)\n",
    "print(forecast_mortes[['ds', 'yhat', 'yhat_lower', 'yhat_upper']].tail())"
   ]
  },
  {
   "cell_type": "code",
   "execution_count": 4,
   "metadata": {},
   "outputs": [],
   "source": [
    "# m.plot(forecast)\n",
    "\n",
    "# print(tabulate(forecast_casos[['ds', 'yhat', 'yhat_lower', 'yhat_upper']], headers=['idx','ds', 'yhat', 'yhat_lower', 'yhat_upper'], floatfmt=\".0f\"))\n"
   ]
  },
  {
   "cell_type": "code",
   "execution_count": 5,
   "metadata": {},
   "outputs": [
    {
     "name": "stdout",
     "output_type": "stream",
     "text": [
      "Casos\n",
      "Mortes\n"
     ]
    },
    {
     "ename": "NameError",
     "evalue": "name 'm_mortes' is not defined",
     "output_type": "error",
     "traceback": [
      "\u001b[0;31m---------------------------------------------------------------------------\u001b[0m",
      "\u001b[0;31mNameError\u001b[0m                                 Traceback (most recent call last)",
      "\u001b[0;32m<ipython-input-5-ef616480ab3d>\u001b[0m in \u001b[0;36m<module>\u001b[0;34m\u001b[0m\n\u001b[1;32m      2\u001b[0m \u001b[0;31m# m.plot_components(forecast_casos)\u001b[0m\u001b[0;34m\u001b[0m\u001b[0;34m\u001b[0m\u001b[0;34m\u001b[0m\u001b[0m\n\u001b[1;32m      3\u001b[0m \u001b[0mprint\u001b[0m\u001b[0;34m(\u001b[0m\u001b[0;34m'Mortes'\u001b[0m\u001b[0;34m)\u001b[0m\u001b[0;34m\u001b[0m\u001b[0;34m\u001b[0m\u001b[0m\n\u001b[0;32m----> 4\u001b[0;31m \u001b[0mm_mortes\u001b[0m\u001b[0;34m.\u001b[0m\u001b[0mplot_components\u001b[0m\u001b[0;34m(\u001b[0m\u001b[0mforecast_mortes\u001b[0m\u001b[0;34m)\u001b[0m\u001b[0;34m\u001b[0m\u001b[0;34m\u001b[0m\u001b[0m\n\u001b[0m",
      "\u001b[0;31mNameError\u001b[0m: name 'm_mortes' is not defined"
     ]
    }
   ],
   "source": [
    "print('Casos')\n",
    "# m.plot_components(forecast_casos)\n",
    "print('Mortes')\n",
    "m_mortes.plot_components(forecast_mortes)"
   ]
  },
  {
   "cell_type": "code",
   "execution_count": 83,
   "metadata": {},
   "outputs": [
    {
     "name": "stdout",
     "output_type": "stream",
     "text": [
      "\n",
      "########## CASOS ###########\n",
      "0   469.9380173356658\n",
      "Name: yhat, dtype: float64\n",
      "\n",
      "########## MORTES ###########\n",
      "0   18.182334884864197\n",
      "Name: yhat, dtype: float64\n"
     ]
    }
   ],
   "source": [
    "print('\\n########## CASOS ###########')\n",
    "print(forecast_casos[forecast_casos.ds == hoje].yhat)\n",
    "\n",
    "print('\\n########## MORTES ###########')\n",
    "print(forecast_mortes[forecast_mortes.ds == hoje].yhat)"
   ]
  },
  {
   "cell_type": "code",
   "execution_count": 84,
   "metadata": {},
   "outputs": [],
   "source": [
    "# from fbprophet.plot import plot_plotly\n",
    "# import plotly.offline as py\n",
    "# py.init_notebook_mode()\n",
    "\n",
    "# fig = plot_plotly(m, forecast)  # This returns a plotly Figure\n",
    "# py.iplot(fig)"
   ]
  },
  {
   "cell_type": "code",
   "execution_count": 85,
   "metadata": {},
   "outputs": [
    {
     "data": {
      "text/html": [
       "<div>\n",
       "<style scoped>\n",
       "    .dataframe tbody tr th:only-of-type {\n",
       "        vertical-align: middle;\n",
       "    }\n",
       "\n",
       "    .dataframe tbody tr th {\n",
       "        vertical-align: top;\n",
       "    }\n",
       "\n",
       "    .dataframe thead th {\n",
       "        text-align: right;\n",
       "    }\n",
       "</style>\n",
       "<table border=\"1\" class=\"dataframe\">\n",
       "  <thead>\n",
       "    <tr style=\"text-align: right;\">\n",
       "      <th></th>\n",
       "      <th>ds</th>\n",
       "      <th>y_casos</th>\n",
       "      <th>y_casos_acum</th>\n",
       "      <th>y_mortes</th>\n",
       "      <th>y_mortes_acum</th>\n",
       "    </tr>\n",
       "  </thead>\n",
       "  <tbody>\n",
       "    <tr>\n",
       "      <th>50</th>\n",
       "      <td>2020-04-16</td>\n",
       "      <td>759.0</td>\n",
       "      <td>15,670.0</td>\n",
       "      <td>30.0</td>\n",
       "      <td>586.0</td>\n",
       "    </tr>\n",
       "    <tr>\n",
       "      <th>51</th>\n",
       "      <td>2020-04-17</td>\n",
       "      <td>792.0</td>\n",
       "      <td>16,462.0</td>\n",
       "      <td>29.0</td>\n",
       "      <td>615.0</td>\n",
       "    </tr>\n",
       "    <tr>\n",
       "      <th>52</th>\n",
       "      <td>2020-04-18</td>\n",
       "      <td>776.0</td>\n",
       "      <td>17,238.0</td>\n",
       "      <td>31.0</td>\n",
       "      <td>646.0</td>\n",
       "    </tr>\n",
       "    <tr>\n",
       "      <th>53</th>\n",
       "      <td>2020-04-19</td>\n",
       "      <td>792.0</td>\n",
       "      <td>18,030.0</td>\n",
       "      <td>31.0</td>\n",
       "      <td>677.0</td>\n",
       "    </tr>\n",
       "    <tr>\n",
       "      <th>54</th>\n",
       "      <td>2020-04-20</td>\n",
       "      <td>789.0</td>\n",
       "      <td>18,819.0</td>\n",
       "      <td>33.0</td>\n",
       "      <td>710.0</td>\n",
       "    </tr>\n",
       "  </tbody>\n",
       "</table>\n",
       "</div>"
      ],
      "text/plain": [
       "           ds  y_casos  y_casos_acum  y_mortes  y_mortes_acum\n",
       "50 2020-04-16    759.0      15,670.0      30.0          586.0\n",
       "51 2020-04-17    792.0      16,462.0      29.0          615.0\n",
       "52 2020-04-18    776.0      17,238.0      31.0          646.0\n",
       "53 2020-04-19    792.0      18,030.0      31.0          677.0\n",
       "54 2020-04-20    789.0      18,819.0      33.0          710.0"
      ]
     },
     "execution_count": 85,
     "metadata": {},
     "output_type": "execute_result"
    }
   ],
   "source": [
    "p = forecast_casos.loc[:,['ds','yhat']]\n",
    "p['y'] = p.loc[:,'yhat']\n",
    "t = df_casos.append(p[['ds','y']], ignore_index=True).round(0)\n",
    "\n",
    "p = forecast_mortes.loc[:,['ds','yhat']]\n",
    "p['y'] = p.loc[:,'yhat']\n",
    "s = df_mortes.append(p[['ds','y']], ignore_index=True).round(0)\n",
    "\n",
    "\n",
    "t['ds'] = t['ds'].astype('datetime64[ns]')\n",
    "t.rename(columns={\"y\": \"y_casos\"}, inplace= True)\n",
    "t['y_casos_acum'] = t['y_casos'].cumsum().round(0)\n",
    "t['y_mortes'] = s['y']\n",
    "t['y_mortes_acum'] = t['y_mortes'].cumsum().round(0)\n",
    "\n",
    "# t.reset_index(inplace=True, drop=True)\n",
    "\n",
    "# t_casos = t_casos.round(1)\n",
    "\n",
    "# print(tabulate(t[t.columns], headers=[t.columns], floatfmt=\".0f\"))\n",
    "t.tail()"
   ]
  },
  {
   "cell_type": "code",
   "execution_count": 86,
   "metadata": {},
   "outputs": [
    {
     "data": {
      "image/png": "[encoded data removed]",
      "text/plain": [
       "<Figure size 720x432 with 2 Axes>"
      ]
     },
     "metadata": {
      "needs_background": "light"
     },
     "output_type": "display_data"
    }
   ],
   "source": [
    "# plt.figure(figsize=(10,6), dpi=80)\n",
    "# fig, ax = plt.subplots()\n",
    "# fig1, ax1 = plt.subplots()\n",
    "# ax.plot(t.index, 'o')\n",
    "# ax1.plot(t['y_casos_acum'], 'o')\n",
    "# ax.set_title('dddddd')\n",
    "# ax1.set_title(t['y_mortes_acum'])\n",
    "# plt.show()\n",
    "\n",
    "x = t.index\n",
    "corte = t.loc[t.ds == str(hoje)].index[0]+1\n",
    "\n",
    "fig, (ax1, ax2) = plt.subplots(2, figsize=(10,6))\n",
    "fig.suptitle('Previsões em ' + hoje)\n",
    "fig.subplots_adjust(hspace = 0.5)\n",
    "ax1.set_title('acumulado')\n",
    "ax1.plot(x, t['y_casos_acum'], label = 'casos')#, linewidths = 0.01)\n",
    "ax1.plot(x, t['y_mortes_acum'], label = 'mortes')\n",
    "ax1.grid()\n",
    "ax1.axvline(x=corte, ymin=0, ymax=0.9, color = 'red', label = 'previsão')\n",
    "ax1.legend()\n",
    "\n",
    "ax2.set_title('diário')\n",
    "ax2.plot(x, t['y_casos'], label = 'casos')\n",
    "ax2.plot(x, t['y_mortes'], label = 'mortes')\n",
    "ax2.grid()\n",
    "ax2.axvline(x=corte, ymin=0, ymax=0.9, color = 'red', label = 'previsão')\n",
    "ax2.legend()\n",
    "\n",
    "plt.show()"
   ]
  },
  {
   "cell_type": "code",
   "execution_count": 87,
   "metadata": {},
   "outputs": [],
   "source": [
    "\n",
    "t.to_csv('previsoes/previsaoBrasil_' + hoje + '.csv', sep=',', decimal=',', index = False)\n",
    "fig.savefig('previsoes/previsaoBrasil_' + hoje + '.png')"
   ]
  },
  {
   "cell_type": "code",
   "execution_count": 88,
   "metadata": {},
   "outputs": [
    {
     "data": {
      "text/html": [
       "<div>\n",
       "<style scoped>\n",
       "    .dataframe tbody tr th:only-of-type {\n",
       "        vertical-align: middle;\n",
       "    }\n",
       "\n",
       "    .dataframe tbody tr th {\n",
       "        vertical-align: top;\n",
       "    }\n",
       "\n",
       "    .dataframe thead th {\n",
       "        text-align: right;\n",
       "    }\n",
       "</style>\n",
       "<table border=\"1\" class=\"dataframe\">\n",
       "  <thead>\n",
       "    <tr style=\"text-align: right;\">\n",
       "      <th></th>\n",
       "      <th>ds</th>\n",
       "      <th>y_casos</th>\n",
       "      <th>y_casos_acum</th>\n",
       "      <th>y_mortes</th>\n",
       "      <th>y_mortes_acum</th>\n",
       "    </tr>\n",
       "  </thead>\n",
       "  <tbody>\n",
       "    <tr>\n",
       "      <th>35</th>\n",
       "      <td>2020-04-01</td>\n",
       "      <td>470.0</td>\n",
       "      <td>6,187.0</td>\n",
       "      <td>18.0</td>\n",
       "      <td>219.0</td>\n",
       "    </tr>\n",
       "  </tbody>\n",
       "</table>\n",
       "</div>"
      ],
      "text/plain": [
       "           ds  y_casos  y_casos_acum  y_mortes  y_mortes_acum\n",
       "35 2020-04-01    470.0       6,187.0      18.0          219.0"
      ]
     },
     "execution_count": 88,
     "metadata": {},
     "output_type": "execute_result"
    }
   ],
   "source": [
    "t[t.ds == hoje]"
   ]
  },
  {
   "cell_type": "code",
   "execution_count": 97,
   "metadata": {},
   "outputs": [
    {
     "data": {
      "text/html": [
       "<div>\n",
       "<style scoped>\n",
       "    .dataframe tbody tr th:only-of-type {\n",
       "        vertical-align: middle;\n",
       "    }\n",
       "\n",
       "    .dataframe tbody tr th {\n",
       "        vertical-align: top;\n",
       "    }\n",
       "\n",
       "    .dataframe thead th {\n",
       "        text-align: right;\n",
       "    }\n",
       "</style>\n",
       "<table border=\"1\" class=\"dataframe\">\n",
       "  <thead>\n",
       "    <tr style=\"text-align: right;\">\n",
       "      <th></th>\n",
       "      <th>ds</th>\n",
       "      <th>y_casos</th>\n",
       "      <th>y_casos_acum</th>\n",
       "      <th>y_mortes</th>\n",
       "      <th>y_mortes_acum</th>\n",
       "    </tr>\n",
       "  </thead>\n",
       "  <tbody>\n",
       "    <tr>\n",
       "      <th>36</th>\n",
       "      <td>2020-04-02</td>\n",
       "      <td>506.0</td>\n",
       "      <td>6,693.0</td>\n",
       "      <td>19.0</td>\n",
       "      <td>238.0</td>\n",
       "    </tr>\n",
       "  </tbody>\n",
       "</table>\n",
       "</div>"
      ],
      "text/plain": [
       "           ds  y_casos  y_casos_acum  y_mortes  y_mortes_acum\n",
       "36 2020-04-02    506.0       6,693.0      19.0          238.0"
      ]
     },
     "execution_count": 97,
     "metadata": {},
     "output_type": "execute_result"
    }
   ],
   "source": [
    "amanha = str(datetime.datetime.today().date() + datetime.timedelta(days=1))\n",
    "t[t.ds == amanha]"
   ]
  },
  {
   "cell_type": "code",
   "execution_count": 96,
   "metadata": {},
   "outputs": [
    {
     "data": {
      "text/plain": [
       "'2020-04-02'"
      ]
     },
     "execution_count": 96,
     "metadata": {},
     "output_type": "execute_result"
    }
   ],
   "source": []
  },
  {
   "cell_type": "code",
   "execution_count": null,
   "metadata": {},
   "outputs": [],
   "source": []
  }
 ],
 "metadata": {
  "kernelspec": {
   "display_name": "Python 3",
   "language": "python",
   "name": "python3"
  },
  "language_info": {
   "codemirror_mode": {
    "name": "ipython",
    "version": 3
   },
   "file_extension": ".py",
   "mimetype": "text/x-python",
   "name": "python",
   "nbconvert_exporter": "python",
   "pygments_lexer": "ipython3",
   "version": "3.8.2"
  }
 },
 "nbformat": 4,
 "nbformat_minor": 2
}
